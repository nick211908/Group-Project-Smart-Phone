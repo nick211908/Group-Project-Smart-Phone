{
 "cells": [
  {
   "cell_type": "code",
   "execution_count": 15,
   "id": "edefb8b0",
   "metadata": {},
   "outputs": [],
   "source": [
    "import os\n",
    "import platform\n",
    "import difflib\n",
    "import webbrowser\n",
    "import urllib.parse"
   ]
  },
  {
   "cell_type": "code",
   "execution_count": 16,
   "id": "18d1dbf2",
   "metadata": {},
   "outputs": [],
   "source": [
    "# Base media player class\n",
    "class MediaPlayer:\n",
    "    def __init__(self, folder_path, valid_extensions):\n",
    "        self.folder_path = folder_path\n",
    "        self.valid_extensions = valid_extensions\n",
    "        self.files = self._scan_files()\n",
    "\n",
    "    def _scan_files(self):\n",
    "        if not os.path.exists(self.folder_path):\n",
    "            print(f\"Folder not found: {self.folder_path}\")\n",
    "            return []\n",
    "        return [\n",
    "            f for f in os.listdir(self.folder_path)\n",
    "            if os.path.isfile(os.path.join(self.folder_path, f)) and\n",
    "            os.path.splitext(f)[1].lower() in self.valid_extensions\n",
    "        ]\n",
    "\n",
    "    def list_files(self):\n",
    "        if not self.files:\n",
    "            print(\"No media files found.\")\n",
    "            return\n",
    "        print(\"\\nAvailable Files:\")\n",
    "        for index, file in enumerate(self.files, 1):\n",
    "            print(f\"   {index}. {file}\")\n",
    "\n",
    "    def suggest_filename(self, user_input):\n",
    "        matches = difflib.get_close_matches(user_input, self.files, n=1, cutoff=0.4)\n",
    "        return matches[0] if matches else None\n",
    "\n",
    "    def open_file(self, filename):\n",
    "        full_path = os.path.abspath(os.path.join(self.folder_path, filename))\n",
    "        if not os.path.exists(full_path):\n",
    "            print(\"File does not exist.\")\n",
    "            return\n",
    "        system = platform.system()\n",
    "        print(f\"Opening: {full_path}\")\n",
    "        if system == \"Windows\":\n",
    "            os.startfile(full_path)\n",
    "        elif system == \"Darwin\":\n",
    "            os.system(f\"open '{full_path}'\")\n",
    "        else:\n",
    "            os.system(f\"xdg-open '{full_path}'\")\n"
   ]
  },
  {
   "cell_type": "code",
   "execution_count": 17,
   "id": "8ecb779a",
   "metadata": {},
   "outputs": [],
   "source": [
    "# Music Player\n",
    "class MusicPlayer(MediaPlayer):\n",
    "    def __init__(self, folder_path):\n",
    "        super().__init__(folder_path, ['.mp3', '.wav', '.aac', '.flac', '.ogg', '.m4a'])\n",
    "\n",
    "    def play_music(self):\n",
    "        self.list_files()\n",
    "        if not self.files:\n",
    "            return\n",
    "        user_input = input(\"\\n🎧 Enter song name (partial/full): \").strip()\n",
    "        match = self.suggest_filename(user_input)\n",
    "        if match:\n",
    "            print(f\"Best match: {match}\")\n",
    "            self.open_file(match)\n",
    "        else:\n",
    "            print(\"No close match found.\")"
   ]
  },
  {
   "cell_type": "code",
   "execution_count": 18,
   "id": "91904d28",
   "metadata": {},
   "outputs": [],
   "source": [
    "# Video Player\n",
    "class VideoPlayer(MediaPlayer):\n",
    "    def __init__(self, folder_path):\n",
    "        super().__init__(folder_path, ['.mp4', '.mkv', '.avi', '.mov', '.flv', '.webm'])\n",
    "\n",
    "    def play_video(self):\n",
    "        self.list_files()\n",
    "        if not self.files:\n",
    "            return\n",
    "        user_input = input(\"\\nEnter video name (partial/full): \").strip()\n",
    "        match = self.suggest_filename(user_input)\n",
    "        if match:\n",
    "            print(f\"Best match: {match}\")\n",
    "            self.open_file(match)\n",
    "        else:\n",
    "            print(\"No close match found.\")"
   ]
  },
  {
   "cell_type": "code",
   "execution_count": 19,
   "id": "e7d402f7",
   "metadata": {},
   "outputs": [],
   "source": [
    "# YouTube Search\n",
    "class YouTube:\n",
    "    def search(self):\n",
    "        query = input(\"\\n What do you want to search on YouTube? \").strip()\n",
    "        if not query:\n",
    "            print(\"Empty search is not allowed.\")\n",
    "            return\n",
    "        search_url = \"https://www.youtube.com/results?search_query=\" + urllib.parse.quote(query)\n",
    "        print(f\"Opening YouTube search for: {query}\")\n",
    "        webbrowser.open(search_url)"
   ]
  },
  {
   "cell_type": "code",
   "execution_count": 20,
   "id": "162444dc",
   "metadata": {},
   "outputs": [],
   "source": [
    "def match_command(text, keywords):\n",
    "    text = text.lower()\n",
    "    return any(keyword in text for keyword in keywords)\n",
    "\n",
    "def main_assistant():\n",
    "    # Replace with actual folders\n",
    "    music_folder = \"C:/Users/YourName/Music\"\n",
    "    video_folder = \"C:/Users/YourName/Videos\"\n",
    "\n",
    "    music_player = MusicPlayer(music_folder)\n",
    "    video_player = VideoPlayer(video_folder)\n",
    "    youtube = YouTube()\n",
    "\n",
    "    print(\"Welcome to Smart Assistant!\")\n",
    "\n",
    "    while True:\n",
    "        user_input = input(\"What do you want to do (or type 'exit')? \").strip().lower()\n",
    "\n",
    "        if user_input in (\"exit\", \"quit\", \"close\"):\n",
    "            print(\" Exiting Smart Assistant.\")\n",
    "            break\n",
    "\n",
    "        elif match_command(user_input, [\"music\", \"audio\", \"songs\", \"audio player\", \"music player\"]):\n",
    "            music_player.play_music()\n",
    "\n",
    "        elif match_command(user_input, [\"video\", \"videos\", \"movie\", \"film\", \"video player\"]):\n",
    "            video_player.play_video()\n",
    "\n",
    "        elif match_command(user_input, [\"youtube\", \"yt\", \"search youtube\"]):\n",
    "            youtube.search()\n",
    "\n",
    "        elif \"player\" in user_input:\n",
    "            follow_up = input(\"Do you want music or video player? \").strip().lower()\n",
    "            if \"music\" in follow_up or \"audio\" in follow_up:\n",
    "                music_player.play_music()\n",
    "            elif \"video\" in follow_up:\n",
    "                video_player.play_video()\n",
    "            else:\n",
    "                print(\"Didn't understand. Please say music or video.\")\n",
    "\n",
    "        else:\n",
    "            print(\"I didn't understand that. Try something like 'music', 'video', or 'YouTube'.\")\n"
   ]
  },
  {
   "cell_type": "code",
   "execution_count": 21,
   "id": "6c780a69",
   "metadata": {},
   "outputs": [
    {
     "name": "stdout",
     "output_type": "stream",
     "text": [
      "Folder not found: C:/Users/YourName/Music\n",
      "Folder not found: C:/Users/YourName/Videos\n",
      "Welcome to Smart Assistant!\n",
      "Opening YouTube search for: homeslice henry\n",
      "I didn't understand that. Try something like 'music', 'video', or 'YouTube'.\n",
      " Exiting Smart Assistant.\n"
     ]
    }
   ],
   "source": [
    "# Run the Assistant\n",
    "if __name__ == \"__main__\":\n",
    "    main_assistant()"
   ]
  }
 ],
 "metadata": {
  "kernelspec": {
   "display_name": "Python 3",
   "language": "python",
   "name": "python3"
  },
  "language_info": {
   "codemirror_mode": {
    "name": "ipython",
    "version": 3
   },
   "file_extension": ".py",
   "mimetype": "text/x-python",
   "name": "python",
   "nbconvert_exporter": "python",
   "pygments_lexer": "ipython3",
   "version": "3.12.1"
  }
 },
 "nbformat": 4,
 "nbformat_minor": 5
}
